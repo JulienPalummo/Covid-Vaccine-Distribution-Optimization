{
 "cells": [
  {
   "cell_type": "markdown",
   "id": "b2d7083c",
   "metadata": {},
   "source": [
    "## Step 1 : Import Data"
   ]
  },
  {
   "cell_type": "code",
   "execution_count": null,
   "id": "a2918fba",
   "metadata": {},
   "outputs": [],
   "source": [
    "import pandas as pd\n",
    "import gurobipy as gp\n",
    "from gurobipy import GRB\n",
    "\n",
    "# Load your Excel data\n",
    "excel_data = pd.ExcelFile(\"Group-Project_Covid-Data.xlsx\")\n",
    "\n",
    "# Reading each sheet into a pandas DataFrame\n",
    "sheets = {}\n",
    "for sheet_name in excel_data.sheet_names:\n",
    "    sheets[sheet_name] = pd.read_excel(excel_data, sheet_name=sheet_name)\n",
    "\n",
    "# Prepare the data from the sheets for use in the model\n",
    "\n",
    "# Vaccine Supply\n",
    "supply = sheets['Vaccine Supply'].set_index('Supplier/t').T.to_dict('list')\n",
    "\n",
    "# Demand Data\n",
    "demand = sheets['Demand Data'].set_index('Neighborhood/t').T.to_dict('list')\n",
    "\n",
    "# Transport Costs\n",
    "transport_costs_df = sheets['Transport Costs']\n",
    "transport_costs = {center: {} for center in transport_costs_df.columns[1:]}  # Exclude 'Supplier' column\n",
    "for _, row in transport_costs_df.iterrows():\n",
    "    supplier = row['Supplier']\n",
    "    for center in transport_costs:\n",
    "        transport_costs[center][supplier] = row[center]\n",
    "\n",
    "# Vaccine Purchase Cost\n",
    "vaccine_purchase_df = sheets['Vaccine Purchase Cost']\n",
    "vaccine_cost = dict(zip(vaccine_purchase_df['Supplier'], vaccine_purchase_df['Cost']))\n",
    "\n",
    "\n",
    "# Case Data\n",
    "cases = sheets['Case Data'].set_index('Neighborhood/t').T.to_dict('list')\n",
    "\n",
    "# Death Data\n",
    "deaths = sheets['Death Data'].set_index('Neighborhood/t').T.to_dict('list')\n",
    "\n",
    "# Center to Neighborhood Mapping\n",
    "center_neighbourhood_df = sheets['Center to Neighbourhood']\n",
    "neighbourhood_vacc_centers = {}\n",
    "for index, row in center_neighbourhood_df.iterrows():\n",
    "    neighbourhood = row['Neighbourhood']\n",
    "    vacc_centers = [column for column in center_neighbourhood_df.columns[1:] if row[column] == 1]\n",
    "    neighbourhood_vacc_centers[neighbourhood] = vacc_centers\n",
    "\n",
    "\n",
    "# Parameters\n",
    "parameters = sheets['Parameters'].set_index('Parameter Name')['Value'].to_dict()\n",
    "h = parameters['h']\n",
    "alpha = parameters['alpha']\n",
    "beta = parameters['beta']"
   ]
  },
  {
   "cell_type": "markdown",
   "id": "8c8bb81c",
   "metadata": {},
   "source": [
    "## Step 2 : Check that all data was properly uploaded"
   ]
  },
  {
   "cell_type": "code",
   "execution_count": null,
   "id": "f765cc48",
   "metadata": {},
   "outputs": [],
   "source": [
    "# Print out the key data structures to verify the data import\n",
    "\n",
    "# Vaccine Supply\n",
    "print(\"Vaccine Supply:\")\n",
    "print(supply)\n",
    "\n",
    "# Demand Data\n",
    "print(\"\\nDemand Data:\")\n",
    "print(demand)\n",
    "\n",
    "# Transport Costs\n",
    "print(\"\\nTransport Costs:\")\n",
    "for center, costs in transport_costs.items():\n",
    "    print(f\"{center}: {costs}\")\n",
    "\n",
    "# Vaccine Purchase Cost\n",
    "print(\"\\nVaccine Purchase Cost:\")\n",
    "print(vaccine_cost)\n",
    "\n",
    "# Case Data\n",
    "print(\"\\nCase Data:\")\n",
    "print(cases)\n",
    "\n",
    "# Death Data\n",
    "print(\"\\nDeath Data:\")\n",
    "print(deaths)\n",
    "\n",
    "# Center to Neighborhood Mapping\n",
    "for neighbourhood, centers in neighbourhood_vacc_centers.items():\n",
    "    print(f\"\\nNeighbourhood: {neighbourhood}, Vaccination Centers: {centers}\")\n",
    "\n",
    "# Parameters\n",
    "print(\"\\nParameters:\")\n",
    "print(parameters)"
   ]
  },
  {
   "cell_type": "markdown",
   "id": "4a629f36",
   "metadata": {},
   "source": [
    "## Step 3 : Create lists of values"
   ]
  },
  {
   "cell_type": "code",
   "execution_count": null,
   "id": "2745b927",
   "metadata": {},
   "outputs": [],
   "source": [
    "# Set of suppliers, vaccination centers, and time periods\n",
    "suppliers = list(supply.keys())  # e.g., ['Moderna', 'Pfizer-BioNTech', ...]\n",
    "vaccination_centers = list(transport_costs.keys())  # e.g., ['Kirkland', 'Lachine', ...]\n",
    "neighbourhoods = list(demand.keys())\n",
    "time_periods = list(range(0, 5)) \n",
    "\n",
    "print(suppliers)\n",
    "print(vaccination_centers)\n",
    "print(neighbourhoods)\n",
    "print(time_periods)"
   ]
  },
  {
   "cell_type": "markdown",
   "id": "b30563ec",
   "metadata": {},
   "source": [
    "## Step 4: Create Model"
   ]
  },
  {
   "cell_type": "code",
   "execution_count": null,
   "id": "2a8b93ab",
   "metadata": {},
   "outputs": [],
   "source": [
    "# Create a new model\n",
    "model = gp.Model(\"VaccineDistribution\")"
   ]
  },
  {
   "cell_type": "markdown",
   "id": "c6510621",
   "metadata": {},
   "source": [
    "## Step 5: Add Decision Variables"
   ]
  },
  {
   "cell_type": "code",
   "execution_count": null,
   "id": "07e214b5",
   "metadata": {
    "scrolled": true
   },
   "outputs": [],
   "source": [
    "# Decision Variables\n",
    "X = model.addVars(suppliers, vaccination_centers, time_periods, vtype=GRB.INTEGER, name=\"X\")"
   ]
  },
  {
   "cell_type": "markdown",
   "id": "b2272662",
   "metadata": {},
   "source": [
    "## Step 6: Create Objective Function Components"
   ]
  },
  {
   "cell_type": "code",
   "execution_count": null,
   "id": "787ccfae",
   "metadata": {},
   "outputs": [],
   "source": [
    "# Transportation Costs Component\n",
    "transportation_and_vaccine_costs = gp.quicksum(\n",
    "    (transport_costs[i][j] + vaccine_cost[j]) * X[j, i, t] \n",
    "    for j in suppliers \n",
    "    for i in vaccination_centers \n",
    "    for t in time_periods\n",
    ")"
   ]
  },
  {
   "cell_type": "code",
   "execution_count": null,
   "id": "367a1c79",
   "metadata": {},
   "outputs": [],
   "source": [
    "urgency_penalty = gp.quicksum(\n",
    "    (alpha * cases[n][t] + beta * deaths[n][t]\n",
    "    for n in neighbourhood_vacc_centers\n",
    "    for t in time_periods\n",
    "))\n",
    "\n",
    "# General Unmet demand\n",
    "penalty_unmet_demand = gp.quicksum(\n",
    "    (h+urgency_penalty) * (demand[n][t] - gp.quicksum(X[j, i, t] for i in neighbourhood_vacc_centers[n] for j in suppliers))\n",
    "    for n in neighbourhood_vacc_centers\n",
    "    for t in time_periods\n",
    ")"
   ]
  },
  {
   "cell_type": "code",
   "execution_count": null,
   "id": "7fa3183c",
   "metadata": {},
   "outputs": [],
   "source": [
    "model.setObjective(transportation_and_vaccine_costs + penalty_unmet_demand, GRB.MINIMIZE)\n",
    "\n",
    "# Update the Model\n",
    "model.update()"
   ]
  },
  {
   "cell_type": "markdown",
   "id": "89913903",
   "metadata": {},
   "source": [
    "## Step 7: Add Constraints"
   ]
  },
  {
   "cell_type": "code",
   "execution_count": null,
   "id": "a4531007",
   "metadata": {},
   "outputs": [],
   "source": [
    "# Supply Constraints\n",
    "for j in suppliers:\n",
    "    for t in time_periods:\n",
    "        model.addConstr(\n",
    "            gp.quicksum(X[j, i, t] for i in vaccination_centers) <= supply[j][t],\n",
    "            name=f\"SupplyConstraint_{j}_{t}\"\n",
    "        )\n",
    "\n",
    "# Demand Constraints\n",
    "for n in neighbourhood_vacc_centers:\n",
    "    for t in time_periods:\n",
    "        model.addConstr(\n",
    "            gp.quicksum(X[j, i, t] for i in neighbourhood_vacc_centers[n] for j in suppliers) <= demand[n][t],\n",
    "            name=f\"DemandConstraint_{n}_{t}\"\n",
    "        )\n",
    "\n",
    "# Constraints to Ensure 10% Proportion of Demand Met for All Neighborhoods\n",
    "for n in neighbourhoods:\n",
    "    for t in time_periods:\n",
    "        total_vaccines_to_n = gp.quicksum(X[j, i, t] for i in neighbourhood_vacc_centers[n] for j in suppliers)\n",
    "        model.addConstr(total_vaccines_to_n >= 0.10 * demand[n][t], name=f\"ProportionDemandMet_{n}_{t}\")\n",
    "    \n",
    "# Non-negativity Constraints\n",
    "for i in vaccination_centers:\n",
    "    for j in suppliers:\n",
    "        for t in time_periods:\n",
    "            model.addConstr(\n",
    "                X[j, i, t] >= 0,\n",
    "                name=f\"NonNegativity_{j}_{i}_{t}\"\n",
    "            )\n",
    "\n",
    "# Use all of the supply when supply < demand constraint\n",
    "for t in time_periods:\n",
    "    # Binary variable: 1 if total supply is less than total demand, 0 otherwise\n",
    "    supply_less_than_demand = model.addVar(vtype=GRB.BINARY, name=f\"SupplyLessThanDemand_{t}\")\n",
    "\n",
    "    total_supply_t = gp.quicksum(supply[j][t] for j in suppliers)\n",
    "    total_demand_t = gp.quicksum(demand[n][t] for n in neighbourhoods)\n",
    "\n",
    "    # Update the model to include the new variable\n",
    "    model.update()\n",
    "\n",
    "    # Adding indicator constraint\n",
    "    model.addGenConstrIndicator(supply_less_than_demand, 1, total_supply_t <= total_demand_t)\n",
    "    model.addConstr(\n",
    "        gp.quicksum(X[j, i, t] for j in suppliers for i in vaccination_centers) <= total_supply_t,\n",
    "        name=f\"UseAllSupplyWhenLess_{t}\"\n",
    "    )\n",
    "    model.addConstr(\n",
    "        (supply_less_than_demand == 1) >> (gp.quicksum(X[j, i, t] for j in suppliers for i in vaccination_centers) == total_supply_t)\n",
    "    )\n",
    "\n",
    "# Equal Distribution Constraints\n",
    "for n in neighbourhoods:\n",
    "    for t in time_periods:\n",
    "        total_vaccines_for_neighborhood = gp.quicksum(X[j, i, t] for i in neighbourhood_vacc_centers[n] for j in suppliers)\n",
    "        num_centers_in_neighborhood = len(neighbourhood_vacc_centers[n])\n",
    "        \n",
    "        for i in neighbourhood_vacc_centers[n]:\n",
    "            model.addConstr(\n",
    "                X.sum('*', i, t) == total_vaccines_for_neighborhood / num_centers_in_neighborhood,\n",
    "                name=f\"EqualDistribution_{n}_{i}_{t}\"\n",
    "            )\n",
    "\n",
    "# Update the Model with these constraints\n",
    "model.update()"
   ]
  },
  {
   "cell_type": "markdown",
   "id": "dd1c16d9",
   "metadata": {},
   "source": [
    "## Step 8: Solve Model"
   ]
  },
  {
   "cell_type": "code",
   "execution_count": null,
   "id": "892891ce",
   "metadata": {
    "scrolled": true
   },
   "outputs": [],
   "source": [
    "# Solve the model\n",
    "model.optimize()"
   ]
  },
  {
   "cell_type": "code",
   "execution_count": null,
   "id": "00367f1b",
   "metadata": {
    "scrolled": false
   },
   "outputs": [],
   "source": [
    "# Check if the model has been solved to optimality\n",
    "if model.status == GRB.OPTIMAL:\n",
    "    # Retrieve the results\n",
    "    print('Solution status is optimal, and the minimum cost is: ${:.4f}'.format(model.objVal))\n",
    "    transportation_and_vaccine_costs_value = transportation_and_vaccine_costs.getValue()\n",
    "    print('Total Procurement and Transportation costs: ${:.2f}'.format(transportation_and_vaccine_costs_value))\n",
    "    indirect_costs=model.objVal - transportation_and_vaccine_costs_value\n",
    "    print('Total Indirect costs: ${:.2f}'.format(indirect_costs))\n",
    "    \n",
    "    vaccine_distribution = model.getAttr('X', X)\n",
    "\n",
    "    # Print the results in a table-like format\n",
    "    print(f\"{'Supplier':<25} {'Vaccination Center':<25} {'Time Period':<15} {'Vaccines Distributed':<20}\")\n",
    "    print(\"-\" * 85)\n",
    "    for (j, i, t), value in vaccine_distribution.items():\n",
    "        if value > 0:  # To only display non-zero distributions\n",
    "            print(f\"{j:<25} {i:<25} {t:<15} {value:<20}\")\n",
    "\n",
    "elif model.status == GRB.INFEASIBLE:\n",
    "    print(\"Model is infeasible. No solution found.\")\n",
    "else:\n",
    "    print(\"Optimization was stopped with status\", model.status)"
   ]
  },
  {
   "cell_type": "markdown",
   "id": "ba5ad980",
   "metadata": {},
   "source": [
    "## Step 9: Sensitivity Analysis"
   ]
  },
  {
   "cell_type": "code",
   "execution_count": null,
   "id": "3c2c70a7",
   "metadata": {},
   "outputs": [],
   "source": [
    "# Sensitivity Analysis\n",
    "\n",
    "if model.status == GRB.OPTIMAL:\n",
    "    print('Solution status is optimal, and the minimum cost is: ${:.4f}'.format(model.objVal))\n",
    "    header = \"| {:<40} | {:<6} | {:<10} | {:<10} |\".format(\n",
    "        \"Constraint Name\", \"Sense\", \"Slack\", \"RHS\"\n",
    "    )\n",
    "    print(header)\n",
    "    print(\"-\" * len(header))  # Print a separator line\n",
    "    for constr in model.getConstrs():\n",
    "        name = constr.ConstrName\n",
    "        sense = constr.Sense\n",
    "        slack = constr.Slack\n",
    "        rhs = constr.RHS\n",
    "\n",
    "        # Only print if the constraint has non-zero slack or RHS\n",
    "        if slack != 0 or rhs != 0:\n",
    "            row = \"| {:<40} | {:<6} | {:<10.2f} | {:<10.2f} |\".format(\n",
    "                name, sense, slack, rhs\n",
    "            )\n",
    "            print(row)\n",
    "else:\n",
    "    print('Optimization was stopped with status %d' % model.status)"
   ]
  },
  {
   "cell_type": "markdown",
   "id": "b27c3196",
   "metadata": {},
   "source": [
    "## Plot for sensitivity analysis"
   ]
  },
  {
   "cell_type": "code",
   "execution_count": null,
   "id": "0c3575aa",
   "metadata": {},
   "outputs": [],
   "source": [
    "import matplotlib.pyplot as plt\n",
    "import pandas as pd\n",
    "import seaborn as sns\n",
    "\n",
    "# Data for the comprehensive graph\n",
    "data_complete = {\n",
    "    \"Week\": [0, 1, 2, 3, 4],\n",
    "    \"Moderna Surplus\": [173, 0, 0, 573, 1307],\n",
    "    \"Novavax Surplus\": [0, 0, 0, 0, 605],\n",
    "    \"Pfizer-BioNTech Surplus\": [0, 0, 0, 0, 0],\n",
    "    \"Johnson & Johnson (Janssen) Surplus\": [0, 0, 0, 0, 0],\n",
    "    \"AstraZeneca Surplus\": [0, 0, 0, 0, 0],\n",
    "    \"MedicagoSanofi and GlaxoSmithKline Surplus\": [0, 0, 0, 0, 0],\n",
    "    \"l'Ouest-de-l'Île-de-Montréal Slack\": [0.65, 1.60, 1.91, 0.15, 1.70],\n",
    "    \"Centre-Sud-de-l'Île-de-Montréal Slack\": [1.37, 298.57, 320.81, 1.02, 0.65],\n",
    "    \"Centre-Ouest-de-l'Île-de-Montréal Slack\": [2.51, 1.47, 1.78, 0.94, 1.57],\n",
    "    \"Nord-de-l'Île-de-Montréal Slack\": [1.69, 1.45, 35.52, 1.37, 1.48],\n",
    "    \"l'Est-de-l'Île-de-Montréal Slack\": [0.48, 175.97, 227.42, 2.19, 2.12],\n",
    "    \"Montérégie Slack\": [0.78, 1.78, 1.69, 0.41, 0.73],\n",
    "    \"Laval Slack\": [0.14, 598.74, 602.69, 0.98, 0.08],\n",
    "    \"Laurentides Slack\": [0.31, 863.33, 863.16, 0.78, 0.48],\n",
    "    \"Lanaudière Slack\": [0.23, 0.81, 0.03, 0.27, 0.85]\n",
    "}\n",
    "\n",
    "df_complete = pd.DataFrame(data_complete)\n",
    "\n",
    "# Creating the plot\n",
    "plt.figure(figsize=(15, 8))\n",
    "\n",
    "# Red shades for vaccines\n",
    "red_shades = plt.cm.get_cmap('Reds', 16)\n",
    "for i, vaccine in enumerate(df_complete.columns[1:7]):\n",
    "    plt.plot(df_complete[\"Week\"], df_complete[vaccine], marker='o', color=red_shades(i + 4), label=vaccine)\n",
    "\n",
    "# Adjusted colors for regions\n",
    "region_colors = ['maroon', 'darkred', 'red', 'firebrick', 'crimson', 'salmon', 'lightcoral', 'indianred', 'brown', 'tomato']\n",
    "for i, region in enumerate(df_complete.columns[7:]):\n",
    "    plt.plot(df_complete[\"Week\"], df_complete[region], marker='x', linestyle='--', color=region_colors[i], label=region)\n",
    "\n",
    "plt.title(\"Comprehensive View of COVID-19 Vaccine Supply Surplus and Demand Slack in Montreal\")\n",
    "plt.xlabel(\"Week\")\n",
    "plt.ylabel(\"Units\")\n",
    "plt.legend(loc='upper left', ncol=2)\n",
    "plt.grid(True)\n",
    "plt.show()"
   ]
  },
  {
   "cell_type": "markdown",
   "id": "4d40e134",
   "metadata": {},
   "source": [
    "## Heatmap for sensitivity analysis"
   ]
  },
  {
   "cell_type": "code",
   "execution_count": null,
   "id": "f83ad375",
   "metadata": {},
   "outputs": [],
   "source": [
    "import matplotlib.pyplot as plt\n",
    "import seaborn as sns\n",
    "import pandas as pd\n",
    "\n",
    "# Data preparation\n",
    "data_complete = {\n",
    "    \"Week\": [0, 1, 2, 3, 4],\n",
    "    \"Moderna Surplus\": [173, 0, 0, 573, 1307],\n",
    "    \"Novavax Surplus\": [0, 0, 0, 0, 605],\n",
    "    \"Pfizer-BioNTech Surplus\": [0, 0, 0, 0, 0],  # Assumed zero\n",
    "    \"Johnson & Johnson (Janssen) Surplus\": [0, 0, 0, 0, 0],  # Assumed zero\n",
    "    \"AstraZeneca Surplus\": [0, 0, 0, 0, 0],  # Assumed zero\n",
    "    \"MedicagoSanofi and GlaxoSmithKline Surplus\": [0, 0, 0, 0, 0],  # Assumed zero\n",
    "    \"l'Ouest-de-l'Île-de-Montréal Slack\": [0.65, 1.60, 1.91, 0.15, 1.70],\n",
    "    \"Centre-Sud-de-l'Île-de-Montréal Slack\": [1.37, 298.57, 320.81, 1.02, 0.65],\n",
    "    \"Centre-Ouest-de-l'Île-de-Montréal Slack\": [2.51, 1.47, 1.78, 0.94, 1.57],\n",
    "    \"Nord-de-l'Île-de-Montréal Slack\": [1.69, 1.45, 35.52, 1.37, 1.48],\n",
    "    \"l'Est-de-l'Île-de-Montréal Slack\": [0.48, 175.97, 227.42, 2.19, 2.12],\n",
    "    \"Montérégie Slack\": [0.78, 1.78, 1.69, 0.41, 0.73],\n",
    "    \"Laval Slack\": [0.14, 598.74, 602.69, 0.98, 0.08],\n",
    "    \"Laurentides Slack\": [0.31, 863.33, 863.16, 0.78, 0.48],\n",
    "    \"Lanaudière Slack\": [0.23, 0.81, 0.03, 0.27, 0.85]\n",
    "}\n",
    "df_complete = pd.DataFrame(data_complete)\n",
    "\n",
    "# Creating heatmap data\n",
    "heatmap_data = df_complete.drop(\"Week\", axis=1).T\n",
    "heatmap_data.columns = [f\"Week {week}\" for week in heatmap_data.columns]\n",
    "\n",
    "# Plotting the heatmap\n",
    "plt.figure(figsize=(10, 8))\n",
    "plt.title(\"Heatmap of Vaccine Surplus and Demand Slack in Montreal\")\n",
    "sns.heatmap(heatmap_data, cmap=\"YlOrRd\", annot=True, fmt=\".1f\")\n",
    "plt.xlabel(\"Week\")\n",
    "plt.ylabel(\"Vaccine/Region\")\n",
    "plt.show()"
   ]
  }
 ],
 "metadata": {
  "kernelspec": {
   "display_name": "Python 3 (ipykernel)",
   "language": "python",
   "name": "python3"
  },
  "language_info": {
   "codemirror_mode": {
    "name": "ipython",
    "version": 3
   },
   "file_extension": ".py",
   "mimetype": "text/x-python",
   "name": "python",
   "nbconvert_exporter": "python",
   "pygments_lexer": "ipython3",
   "version": "3.10.9"
  }
 },
 "nbformat": 4,
 "nbformat_minor": 5
}
